{
 "cells": [
  {
   "cell_type": "markdown",
   "id": "25d7736c-ba17-4aff-b6bb-66eba20fbf4e",
   "metadata": {},
   "source": [
    "# Lab | Error Handling"
   ]
  },
  {
   "cell_type": "markdown",
   "id": "bc99b386-7508-47a0-bcdb-d969deaf6c8b",
   "metadata": {},
   "source": [
    "## Exercise: Error Handling for Managing Customer Orders\n",
    "\n",
    "The implementation of your code for managing customer orders assumes that the user will always enter a valid input. \n",
    "\n",
    "For example, we could modify the `initialize_inventory` function to include error handling.\n",
    "   - If the user enters an invalid quantity (e.g., a negative value or a non-numeric value), display an error message and ask them to re-enter the quantity for that product.\n",
    "   - Use a try-except block to handle the error and continue prompting the user until a valid quantity is entered.\n",
    "\n",
    "```python\n",
    "# Step 1: Define the function for initializing the inventory with error handling\n",
    "def initialize_inventory(products):\n",
    "    inventory = {}\n",
    "    for product in products:\n",
    "        valid_quantity = False\n",
    "        while not valid_quantity:\n",
    "            try:\n",
    "                quantity = int(input(f\"Enter the quantity of {product}s available: \"))\n",
    "                if quantity < 0:\n",
    "                    raise ValueError(\"Invalid quantity! Please enter a non-negative value.\")\n",
    "                valid_quantity = True\n",
    "            except ValueError as error:\n",
    "                print(f\"Error: {error}\")\n",
    "        inventory[product] = quantity\n",
    "    return inventory\n",
    "\n",
    "# Or, in another way:\n",
    "\n",
    "def initialize_inventory(products):\n",
    "    inventory = {}\n",
    "    for product in products:\n",
    "        valid_input = False\n",
    "        while not valid_input:\n",
    "            try:\n",
    "                quantity = int(input(f\"Enter the quantity of {product}s available: \"))\n",
    "                if quantity >= 0:\n",
    "                    inventory[product] = quantity\n",
    "                    valid_input = True\n",
    "                else:\n",
    "                    print(\"Quantity cannot be negative. Please enter a valid quantity.\")\n",
    "            except ValueError:\n",
    "                print(\"Invalid input. Please enter a valid quantity.\")\n",
    "    return inventory\n",
    "```\n",
    "\n",
    "Let's enhance your code by implementing error handling to handle invalid inputs.\n",
    "\n",
    "Follow the steps below to complete the exercise:\n",
    "\n",
    "2. Modify the `calculate_total_price` function to include error handling.\n",
    "   - If the user enters an invalid price (e.g., a negative value or a non-numeric value), display an error message and ask them to re-enter the price for that product.\n",
    "   - Use a try-except block to handle the error and continue prompting the user until a valid price is entered.\n",
    "\n",
    "3. Modify the `get_customer_orders` function to include error handling.\n",
    "   - If the user enters an invalid number of orders (e.g., a negative value or a non-numeric value), display an error message and ask them to re-enter the number of orders.\n",
    "   - If the user enters an invalid product name (e.g., a product name that is not in the inventory), or that doesn't have stock available, display an error message and ask them to re-enter the product name. *Hint: you will need to pass inventory as a parameter*\n",
    "   - Use a try-except block to handle the error and continue prompting the user until a valid product name is entered.\n",
    "\n",
    "4. Test your code by running the program and deliberately entering invalid quantities and product names. Make sure the error handling mechanism works as expected.\n"
   ]
  },
  {
   "cell_type": "code",
   "execution_count": 5,
   "id": "89fcccf1",
   "metadata": {},
   "outputs": [],
   "source": [
    "products = [\"t-shirt\", \"mug\", \"hat\", \"book\", \"keychain\"]"
   ]
  },
  {
   "cell_type": "code",
   "execution_count": 6,
   "id": "15e1c6d6",
   "metadata": {},
   "outputs": [],
   "source": [
    "def initialize_inventory(products):\n",
    "    inventory = {}\n",
    "    for product in products:\n",
    "        valid_input = False\n",
    "        while not valid_input:\n",
    "            try:\n",
    "                quantity = int(input(f\"Enter the quantity of {product}s available: \"))\n",
    "                if quantity >= 0:\n",
    "                    inventory[product] = quantity\n",
    "                    valid_input = True\n",
    "                else:\n",
    "                    print(\"Quantity cannot be negative. Please enter a valid quantity.\")\n",
    "            except ValueError:\n",
    "                print(\"Invalid input. Please enter a valid quantity.\")\n",
    "    return inventory"
   ]
  },
  {
   "cell_type": "code",
   "execution_count": 10,
   "id": "4d9e5316",
   "metadata": {},
   "outputs": [],
   "source": [
    "'''\n",
    "Modify the calculate_total_price function to include error handling.\n",
    "\n",
    "    If the user enters an invalid price (e.g., a negative value or a non-numeric value), display an error message and ask them to re-enter the price for that product.\n",
    "    Use a try-except block to handle the error and continue prompting the user until a valid price is entered.\n",
    "'''\n",
    "\n",
    "def calculate_total_price(products):\n",
    "    item_price = []\n",
    "    for product in products:\n",
    "        valid_price = False\n",
    "        while not valid_price:\n",
    "            try:\n",
    "                price = int(input(f\"Enter the price for {product}: \"))\n",
    "                if price >= 0:\n",
    "                  #if valid price is entered append to the item_price list\n",
    "                    item_price.append(price)\n",
    "                    valid_price = True\n",
    "                else: #if invalid price is entered\n",
    "                    print(\"Quantity cannot be negative. Please enter a valid quantity.\")\n",
    "            except ValueError:\n",
    "                print(\"Invalid input. Please enter a valid quantity.\")\n",
    "    return sum(item_price)\n",
    "   \n",
    "    "
   ]
  },
  {
   "cell_type": "code",
   "execution_count": 11,
   "id": "ecb01901",
   "metadata": {},
   "outputs": [],
   "source": [
    "'''\n",
    "Modify the get_customer_orders function to include error handling.\n",
    "\n",
    "    If the user enters an invalid number of orders (e.g., a negative value or a non-numeric value), display an error message and ask them to re-enter the number of orders.\n",
    "    If the user enters an invalid product name (e.g., a product name that is not in the inventory), or that doesn't have stock available, display an error message and ask them to re-enter the product name. Hint: you will need to pass inventory as a parameter\n",
    "    Use a try-except block to handle the error and continue prompting the user until a valid product name is entered.\n",
    "'''\n",
    "def get_customer_orders(inventory):\n",
    "    orders = {}\n",
    "    while True:\n",
    "        try:\n",
    "            num_orders = int(input(\"Enter the number of orders: \"))\n",
    "            if num_orders <= 0:\n",
    "                raise ValueError(\"Number of orders must be a positive integer.\")\n",
    "            break\n",
    "        except ValueError as ve:\n",
    "            print(\"Error:\", ve)\n",
    "    \n",
    "    for i in range(num_orders):\n",
    "        while True:\n",
    "            product_name = input(\"Enter product name: \")\n",
    "            try:\n",
    "                if product_name not in inventory or inventory[product_name] == 0:\n",
    "                    raise ValueError(\"Invalid product name or out of stock.\")\n",
    "                break\n",
    "            except ValueError as ve:\n",
    "                print(\"Error:\", ve)\n",
    "                \n",
    "        quantity = int(input(\"Enter quantity for {}: \".format(product_name)))\n",
    "        orders[product_name] = quantity\n",
    "    return orders\n"
   ]
  },
  {
   "cell_type": "code",
   "execution_count": 13,
   "id": "c1739048",
   "metadata": {},
   "outputs": [
    {
     "name": "stdout",
     "output_type": "stream",
     "text": [
      "Enter the quantity of t-shirts available: 10\n",
      "Enter the quantity of mugs available: -5\n",
      "Quantity cannot be negative. Please enter a valid quantity.\n",
      "Enter the quantity of mugs available: a\n",
      "Invalid input. Please enter a valid quantity.\n",
      "Enter the quantity of mugs available: 12\n",
      "Enter the quantity of hats available: 10\n",
      "Enter the quantity of books available: b\n",
      "Invalid input. Please enter a valid quantity.\n",
      "Enter the quantity of books available: 10\n",
      "Enter the quantity of keychains available: 20\n",
      "Enter the price for t-shirt: -4\n",
      "Quantity cannot be negative. Please enter a valid quantity.\n",
      "Enter the price for t-shirt: 20\n",
      "Enter the price for mug: sdf\n",
      "Invalid input. Please enter a valid quantity.\n",
      "Enter the price for mug: 15\n",
      "Enter the price for hat: 12\n",
      "Enter the price for book: 10\n",
      "Enter the price for keychain: 5\n",
      "Enter the number of orders: 2\n",
      "Enter product name: hat\n",
      "Enter quantity for hat: 1\n",
      "Enter product name: 89\n",
      "Error: Invalid product name or out of stock.\n",
      "Enter product name: book\n",
      "Enter quantity for book: 2\n"
     ]
    },
    {
     "data": {
      "text/plain": [
       "{'hat': 1, 'book': 2}"
      ]
     },
     "execution_count": 13,
     "metadata": {},
     "output_type": "execute_result"
    }
   ],
   "source": [
    "# call to initialize the inventory qty\n",
    "total_inventory = initialize_inventory(products)\n",
    "\n",
    "# calculate price of products\n",
    "total_price = calculate_total_price(products)\n",
    "\n",
    "get_customer_orders(total_inventory)"
   ]
  },
  {
   "cell_type": "code",
   "execution_count": null,
   "id": "0db1c879",
   "metadata": {},
   "outputs": [],
   "source": []
  }
 ],
 "metadata": {
  "kernelspec": {
   "display_name": "Python 3 (ipykernel)",
   "language": "python",
   "name": "python3"
  },
  "language_info": {
   "codemirror_mode": {
    "name": "ipython",
    "version": 3
   },
   "file_extension": ".py",
   "mimetype": "text/x-python",
   "name": "python",
   "nbconvert_exporter": "python",
   "pygments_lexer": "ipython3",
   "version": "3.9.19"
  }
 },
 "nbformat": 4,
 "nbformat_minor": 5
}
